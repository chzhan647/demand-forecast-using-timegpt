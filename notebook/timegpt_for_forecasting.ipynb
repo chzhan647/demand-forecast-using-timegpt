{
 "cells": [
  {
   "cell_type": "code",
   "execution_count": null,
   "metadata": {},
   "outputs": [],
   "source": [
    "import warnings \n",
    "import numpy as np \n",
    "import pandas as pd \n",
    "import matplotlib.pyplot as plt \n",
    "from nixtla import NixtlaClient\n",
    "%matplotlib inline\n",
    "warnings.filterwarnings(\"ignore\")\n",
    "\n",
    "API_KEY = 'YOUR-API-KEY'\n",
    "nixtla_client = NixtlaClient(api_key = API_KEY)\n",
    "nixtla_client.validate_api_key() # check your API key status\n",
    "\n"
   ]
  },
  {
   "cell_type": "code",
   "execution_count": null,
   "metadata": {},
   "outputs": [],
   "source": [
    "train = pd.read_csv('../data/train.csv', parse_dates=['date'])\n",
    "test = pd.read_csv('../data/test.csv', parse_dates=['date'])"
   ]
  },
  {
   "cell_type": "code",
   "execution_count": null,
   "metadata": {},
   "outputs": [],
   "source": [
    "train.describe()"
   ]
  },
  {
   "cell_type": "code",
   "execution_count": null,
   "metadata": {},
   "outputs": [],
   "source": [
    "print('Min date from train set: %s' % train['date'].min().date())\n",
    "print('Max date from train set: %s' % train['date'].max().date())"
   ]
  },
  {
   "cell_type": "markdown",
   "metadata": {},
   "source": [
    "##### Basic EDA\n",
    "Let's understand the data a bit more"
   ]
  },
  {
   "cell_type": "markdown",
   "metadata": {},
   "source": [
    "**Daily sales over time**"
   ]
  },
  {
   "cell_type": "code",
   "execution_count": null,
   "metadata": {},
   "outputs": [],
   "source": [
    "daily_sale = train.groupby('date', as_index = False)['sales'].sum()\n",
    "store_sale = train.groupby(['date','store'], as_index = False)['sales'].sum()\n",
    "item_sale = train.groupby(['date','item'], as_index = False)['sales'].sum()\n"
   ]
  },
  {
   "cell_type": "code",
   "execution_count": null,
   "metadata": {},
   "outputs": [],
   "source": [
    "# Plot using nixtla function \n",
    "nixtla_client.plot(daily_sale, time_col='date', target_col='sales')\n",
    "\n",
    "\n"
   ]
  },
  {
   "cell_type": "code",
   "execution_count": null,
   "metadata": {},
   "outputs": [],
   "source": [
    "train.head(1)"
   ]
  },
  {
   "cell_type": "markdown",
   "metadata": {},
   "source": [
    "#### Predict with TimeGPT\n",
    "We will forecast daily sales for a full week "
   ]
  },
  {
   "cell_type": "code",
   "execution_count": null,
   "metadata": {},
   "outputs": [],
   "source": [
    "# add week and month to df\n",
    "train['week'] = train['date'].dt.isocalendar().week\n",
    "train['month'] = train['date'].dt.month\n",
    "train_dummy = train_dummy[~train_dummy.index.duplicated()]\n",
    "# one hot encode week and month\n",
    "train_dummy = pd.get_dummies(train, columns=['week', 'month','store','item'], dtype=int)"
   ]
  },
  {
   "cell_type": "code",
   "execution_count": null,
   "metadata": {},
   "outputs": [],
   "source": [
    "# Truncate data frame \n",
    "# forecast_df = train_dummy[train_dummy['delivery_week'] < \"2016-10-16\"]\n",
    "\n",
    "# Let's use the last x weeks of actuals for the holdout set \n",
    "holdout_df = train_dummy[(train_dummy['date'] >= \"2015-01-16\") & (train_dummy['date'] <= \"2017-04-29\")]\n"
   ]
  },
  {
   "cell_type": "code",
   "execution_count": null,
   "metadata": {},
   "outputs": [],
   "source": []
  },
  {
   "cell_type": "code",
   "execution_count": null,
   "metadata": {},
   "outputs": [],
   "source": [
    "from nixtla.date_features import CountryHolidays\n",
    "\n",
    "# create list with seasonal exogenous features\n",
    "EXOGENOUS_FAETURES = [x for x in train_dummy.columns if ('week_' in x) | ('month_' in x) | ('item_' in x) | ('store_' in x) ]\n",
    "\n",
    "timegpt_fcst_ex_vars_df = nixtla_client.forecast(\n",
    "    df=train_dummy[['date', 'sales']+EXOGENOUS_FAETURES],\n",
    "    time_col='date',\n",
    "    target_col='sales',\n",
    "    X_df=holdout_df[['date']+EXOGENOUS_FAETURES],\n",
    "    h=17,\n",
    "    level=[80],\n",
    "    freq='W-MON',\n",
    "    model='timegpt-1',\n",
    "    add_history=True,\n",
    "    )"
   ]
  },
  {
   "cell_type": "code",
   "execution_count": null,
   "metadata": {},
   "outputs": [],
   "source": []
  }
 ],
 "metadata": {
  "kernelspec": {
   "display_name": "myenv",
   "language": "python",
   "name": "python3"
  },
  "language_info": {
   "codemirror_mode": {
    "name": "ipython",
    "version": 3
   },
   "file_extension": ".py",
   "mimetype": "text/x-python",
   "name": "python",
   "nbconvert_exporter": "python",
   "pygments_lexer": "ipython3",
   "version": "3.10.14"
  }
 },
 "nbformat": 4,
 "nbformat_minor": 2
}
